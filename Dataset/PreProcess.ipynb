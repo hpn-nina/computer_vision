{
 "cells": [
  {
   "cell_type": "markdown",
   "metadata": {},
   "source": [
    "# Introduction\n"
   ]
  },
  {
   "cell_type": "code",
   "execution_count": 24,
   "metadata": {},
   "outputs": [],
   "source": [
    "import imutils\n",
    "import cv2 \n",
    "from matplotlib import pyplot as plt\n",
    "import os\n",
    "from PIL import Image\n",
    "import sys\n",
    "import numpy"
   ]
  },
  {
   "cell_type": "code",
   "execution_count": 20,
   "metadata": {},
   "outputs": [],
   "source": [
    "babyImages = os.listdir('./Baby')\n",
    "dogImages = os.listdir('./Dog')"
   ]
  },
  {
   "cell_type": "code",
   "execution_count": 15,
   "metadata": {},
   "outputs": [],
   "source": [
    "#Rename all files in Baby dataset\n",
    "path = './Baby'\n",
    "for index, file in enumerate(babyImages):\n",
    "    dst = 'Baby_' + str(index) + str(file[-4:])\n",
    "\n",
    "    os.rename(os.path.join(path, file), os.path.join(path, dst))"
   ]
  },
  {
   "cell_type": "code",
   "execution_count": 16,
   "metadata": {},
   "outputs": [],
   "source": [
    "path = './Dog'\n",
    "for index, file in enumerate(dogImages):\n",
    "    dst = 'Dog_' + str(index) + str(file[-4:])\n",
    "\n",
    "    os.rename(os.path.join(path, file), os.path.join(path, dst))"
   ]
  },
  {
   "cell_type": "code",
   "execution_count": 26,
   "metadata": {},
   "outputs": [],
   "source": [
    "for img in babyImages:\n",
    "    path = './Baby/' + img\n",
    "    image = Image.open(path)\n",
    "    w, h = image.size\n",
    "\n",
    "    if h > w:\n",
    "        r = 227 / w\n",
    "        image = image.resize((int(w*r), 227), Image.ANTIALIAS)\n",
    "        image.save(path)\n",
    "\n",
    "    else:\n",
    "        r = 227 / h \n",
    "        image = image.resize((227, int(h*r)), Image.ANTIALIAS)\n",
    "        image.save(path)\n",
    "\n",
    "    "
   ]
  },
  {
   "cell_type": "code",
   "execution_count": null,
   "metadata": {},
   "outputs": [],
   "source": [
    "for img in dogImages:\n",
    "    path = './Dog/' + img\n",
    "    image = Image.open(path)\n",
    "    w, h = image.size\n",
    "\n",
    "    if h > w:\n",
    "        r = 227 / w\n",
    "        image = image.resize((int(w*r), 227), Image.ANTIALIAS)\n",
    "        image.save(path)\n",
    "\n",
    "    else:\n",
    "        r = 227 / h \n",
    "        image = image.resize((227, int(h*r)), Image.ANTIALIAS)\n",
    "        image.save(path)\n",
    "\n",
    "    "
   ]
  },
  {
   "cell_type": "markdown",
   "metadata": {},
   "source": [
    "Divide the achieved dataset into training and testing data"
   ]
  },
  {
   "cell_type": "code",
   "execution_count": null,
   "metadata": {},
   "outputs": [],
   "source": [
    "!pip install pytest-shutil\n",
    "!pip install argparse"
   ]
  },
  {
   "cell_type": "code",
   "execution_count": 3,
   "metadata": {},
   "outputs": [],
   "source": [
    "import shutil\n",
    "import os \n",
    "import argparse\n",
    "import numpy as np"
   ]
  },
  {
   "cell_type": "code",
   "execution_count": null,
   "metadata": {},
   "outputs": [],
   "source": [
    "def get_files_from_folder(path):\n",
    "    files = os.listdir(path)\n",
    "    return np.asarray(files)\n",
    "\n",
    "def main(path_to_data, path_to_test, train_ratio):\n",
    "    # get dirs\n",
    "    _, dirs, _ = next(os.walk(path_to_data))\n",
    "\n",
    "    "
   ]
  }
 ],
 "metadata": {
  "interpreter": {
   "hash": "ade8686335d92f1830b6286b5bb03bb8a9ebf5a6fa66663edb2ae741c0119b75"
  },
  "kernelspec": {
   "display_name": "Python 3.8.11 64-bit ('cs116': conda)",
   "name": "python3"
  },
  "language_info": {
   "codemirror_mode": {
    "name": "ipython",
    "version": 3
   },
   "file_extension": ".py",
   "mimetype": "text/x-python",
   "name": "python",
   "nbconvert_exporter": "python",
   "pygments_lexer": "ipython3",
   "version": "3.8.11"
  },
  "orig_nbformat": 4
 },
 "nbformat": 4,
 "nbformat_minor": 2
}
