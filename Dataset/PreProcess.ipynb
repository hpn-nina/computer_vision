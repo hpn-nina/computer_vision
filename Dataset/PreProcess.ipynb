{
 "cells": [
  {
   "cell_type": "markdown",
   "source": [
    "# Introduction\r\n"
   ],
   "metadata": {}
  },
  {
   "cell_type": "code",
   "execution_count": 24,
   "source": [
    "import imutils\r\n",
    "import cv2 \r\n",
    "from matplotlib import pyplot as plt\r\n",
    "import os\r\n",
    "from PIL import Image\r\n",
    "import sys\r\n",
    "import numpy"
   ],
   "outputs": [],
   "metadata": {}
  },
  {
   "cell_type": "code",
   "execution_count": 20,
   "source": [
    "babyImages = os.listdir('./Baby')\r\n",
    "dogImages = os.listdir('./Dog')"
   ],
   "outputs": [],
   "metadata": {}
  },
  {
   "cell_type": "code",
   "execution_count": 15,
   "source": [
    "#Rename all files in Baby dataset\r\n",
    "path = './Baby'\r\n",
    "for index, file in enumerate(babyImages):\r\n",
    "    dst = 'Baby_' + str(index) + str(file[-4:])\r\n",
    "\r\n",
    "    os.rename(os.path.join(path, file), os.path.join(path, dst))"
   ],
   "outputs": [],
   "metadata": {}
  },
  {
   "cell_type": "code",
   "execution_count": 16,
   "source": [
    "path = './Dog'\r\n",
    "for index, file in enumerate(dogImages):\r\n",
    "    dst = 'Dog_' + str(index) + str(file[-4:])\r\n",
    "\r\n",
    "    os.rename(os.path.join(path, file), os.path.join(path, dst))"
   ],
   "outputs": [],
   "metadata": {}
  },
  {
   "cell_type": "code",
   "execution_count": 26,
   "source": [
    "for img in babyImages:\r\n",
    "    path = './Baby/' + img\r\n",
    "    image = Image.open(path)\r\n",
    "    w, h = image.size\r\n",
    "\r\n",
    "    if h > w:\r\n",
    "        r = 227 / w\r\n",
    "        image = image.resize((int(w*r), 227), Image.ANTIALIAS)\r\n",
    "        image.save(path)\r\n",
    "\r\n",
    "    else:\r\n",
    "        r = 227 / h \r\n",
    "        image = image.resize((227, int(h*r)), Image.ANTIALIAS)\r\n",
    "        image.save(path)\r\n",
    "\r\n",
    "    "
   ],
   "outputs": [],
   "metadata": {}
  },
  {
   "cell_type": "code",
   "execution_count": null,
   "source": [
    "for img in dogImages:\r\n",
    "    path = './Dog/' + img\r\n",
    "    image = Image.open(path)\r\n",
    "    w, h = image.size\r\n",
    "\r\n",
    "    if h > w:\r\n",
    "        r = 227 / w\r\n",
    "        image = image.resize((int(w*r), 227), Image.ANTIALIAS)\r\n",
    "        image.save(path)\r\n",
    "\r\n",
    "    else:\r\n",
    "        r = 227 / h \r\n",
    "        image = image.resize((227, int(h*r)), Image.ANTIALIAS)\r\n",
    "        image.save(path)\r\n",
    "\r\n",
    "    "
   ],
   "outputs": [],
   "metadata": {}
  }
 ],
 "metadata": {
  "orig_nbformat": 4,
  "language_info": {
   "name": "python",
   "version": "3.8.11",
   "mimetype": "text/x-python",
   "codemirror_mode": {
    "name": "ipython",
    "version": 3
   },
   "pygments_lexer": "ipython3",
   "nbconvert_exporter": "python",
   "file_extension": ".py"
  },
  "kernelspec": {
   "name": "python3",
   "display_name": "Python 3.8.11 64-bit ('cs116': conda)"
  },
  "interpreter": {
   "hash": "ade8686335d92f1830b6286b5bb03bb8a9ebf5a6fa66663edb2ae741c0119b75"
  }
 },
 "nbformat": 4,
 "nbformat_minor": 2
}